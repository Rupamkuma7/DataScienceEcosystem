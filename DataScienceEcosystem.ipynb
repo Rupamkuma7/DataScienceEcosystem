{
 "cells": [
  {
   "cell_type": "markdown",
   "id": "74e1f581-46e4-4b31-a7b2-4194eaab3ab0",
   "metadata": {
    "tags": []
   },
   "source": [
    "<h1>Data Science Tools and Ecosystem</h1>"
   ]
  },
  {
   "cell_type": "markdown",
   "id": "eda21dd5-d6ef-451e-9ace-f04da9ea48bd",
   "metadata": {
    "tags": []
   },
   "source": [
    "In this notebook, Data Science Tools and Ecosystem are summarized."
   ]
  },
  {
   "cell_type": "markdown",
   "id": "f5cefd5f-53a3-400e-8e43-b47498ff3511",
   "metadata": {
    "tags": []
   },
   "source": [
    "Some of the popular languages that Data Scientists use are:\n",
    "<br>\n",
    "Python, R, and SQL\n",
    "<br>\n",
    "(orderedlist)\n",
    "</br>\n",
    "</br>\n"
   ]
  },
  {
   "cell_type": "markdown",
   "id": "68502ddf-74e7-490b-ad13-3c25b0c6fb97",
   "metadata": {
    "tags": []
   },
   "source": [
    "Some of the commonly used libraries used by Data Scientists include:\n",
    "<br>\n",
    "Matplotlib,Numpy,Pandas, and Scikit-learn<br>\n",
    "(orderedList)\n",
    "</br>\n",
    "</br>\n",
    "\n"
   ]
  },
  {
   "cell_type": "markdown",
   "id": "b182c703-a1f5-4126-8872-a37f51006618",
   "metadata": {},
   "source": [
    "|DataScienceTools|\n",
    "|-------------|\n",
    "|JupyterLAB|\n",
    "|Rstudio|\n",
    "|WatsonStudio|"
   ]
  },
  {
   "cell_type": "markdown",
   "id": "e8529f9a-2f03-439b-ad2a-67a4e6a9a7e7",
   "metadata": {},
   "source": [
    "<h3>Below are a few examples of evaluating arithmetic expressions in Python.</h3>"
   ]
  },
  {
   "cell_type": "code",
   "execution_count": 22,
   "id": "d2df3217-2fd6-4cbc-8e51-1d59b05d82f7",
   "metadata": {
    "tags": []
   },
   "outputs": [
    {
     "data": {
      "text/plain": [
       "17"
      ]
     },
     "execution_count": 22,
     "metadata": {},
     "output_type": "execute_result"
    }
   ],
   "source": [
    "#This a simple arithmetic expression to multiply then add integers\n",
    "(3*4)+5"
   ]
  },
  {
   "cell_type": "code",
   "execution_count": 16,
   "id": "ff10b317-61c2-4eea-8db8-bb43dc966a73",
   "metadata": {
    "tags": []
   },
   "outputs": [
    {
     "name": "stdout",
     "output_type": "stream",
     "text": [
      "hours= 3.3333333333333335\n"
     ]
    }
   ],
   "source": [
    "#This will convert 200 minutes to hours by diving by 60\n",
    "#as, 1 hour=60 minutes => 1 minute=1/60 hours\n",
    "# Given minutes= 200\n",
    "print(\"hours=\",200/60)"
   ]
  },
  {
   "cell_type": "markdown",
   "id": "b54fcd7f-18b9-485e-ae91-63d84fbd7e12",
   "metadata": {},
   "source": [
    "**Objectives:**\n",
    "<br>\n",
    "(unorderedlist)\n",
    "<br>\n",
    "1. List popular libraries in Data Science:\n",
    "<br>\n",
    "matplotlib, pandas, numpy,  scikit-learn, seaborn, pyplot , and scipy</br>\n",
    "2. List popular big data platforms:\n",
    "<br>\n",
    "Apache Spark, Apache Hadoop, and Apache Hive</br>\n",
    "3. List popular languages for Data Science:\n",
    "<br>\n",
    "Julia, C++, Python, R, SQL, and Java</br>"
   ]
  },
  {
   "cell_type": "markdown",
   "id": "c3860be8-204d-43a6-aa0b-4ce3b2bfd75f",
   "metadata": {
    "tags": []
   },
   "source": [
    "<h2> Author </h2>\n",
    "<br> Rupam kumari</br>"
   ]
  },
  {
   "cell_type": "code",
   "execution_count": null,
   "id": "470c2b9a-3f03-499a-bb9b-8cf7cd23185b",
   "metadata": {},
   "outputs": [],
   "source": []
  }
 ],
 "metadata": {
  "kernelspec": {
   "display_name": "Python",
   "language": "python",
   "name": "conda-env-python-py"
  },
  "language_info": {
   "codemirror_mode": {
    "name": "ipython",
    "version": 3
   },
   "file_extension": ".py",
   "mimetype": "text/x-python",
   "name": "python",
   "nbconvert_exporter": "python",
   "pygments_lexer": "ipython3",
   "version": "3.7.12"
  }
 },
 "nbformat": 4,
 "nbformat_minor": 5
}
